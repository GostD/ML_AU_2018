{
 "cells": [
  {
   "cell_type": "code",
   "execution_count": 2,
   "metadata": {
    "collapsed": true
   },
   "outputs": [],
   "source": [
    "import pandas as pd\n",
    "import numpy as np\n",
    "from scipy.spatial import distance\n",
    "import matplotlib.pyplot as plt\n",
    "\n",
    "df = pd.read_csv('spambase_old.csv')\n",
    "df_norm=(df-df.min())/(df.max()-df.min())\n",
    "train = np.array(df.values)\n",
    "train_norm = np.array(df_norm.values)\n",
    "dfn = pd.read_csv('spambase_new.csv')\n",
    "dfn_norm=(dfn-dfn.min())/(dfn.max()-dfn.min())\n",
    "val = np.array(dfn.values)\n",
    "val_norm = np.array(dfn_norm.values)"
   ]
  },
  {
   "cell_type": "markdown",
   "metadata": {},
   "source": [
    "###1###\n",
    "\n",
    "x_i*sum(O_k)-O_i"
   ]
  },
  {
   "cell_type": "code",
   "execution_count": 1509,
   "metadata": {
    "collapsed": true
   },
   "outputs": [],
   "source": [
    "###2###\n",
    "def stochastic_grad(train, learning_rate = 0.0001, epoch = 300, temp = 0.995):\n",
    "    w = np.random.random(train.shape[1]-1)*0.01\n",
    "    w.reshape((train.shape[1]-1,1))\n",
    "    b = 0\n",
    "    train_z = train[:,:-1]\n",
    "    y = train[:,-1]\n",
    "    batch_size = 10\n",
    "    loss = 0\n",
    "    lr = learning_rate\n",
    "    for j in range(epoch):\n",
    "        lr *= temp\n",
    "        for i in range(train_z.shape[0]//batch_size):\n",
    "            batch = train_z[batch_size*i: batch_size*(i+1)]\n",
    "            y_t = y[batch_size*i: batch_size*(i+1)]\n",
    "            s = np.sum(w*batch, axis=1) + b\n",
    "            x = 1/(1+np.exp(-s))\n",
    "            ds = x - y_t\n",
    "            dw = (1/batch_size)*np.sum((batch*ds.reshape(batch_size,1)), axis=0)\n",
    "            db = (1/batch_size)*np.sum(ds)\n",
    "            w -= lr*dw\n",
    "            b -= lr*db\n",
    "    return w, b"
   ]
  },
  {
   "cell_type": "code",
   "execution_count": 1510,
   "metadata": {
    "collapsed": true
   },
   "outputs": [],
   "source": [
    "def check_grad(w, b, dev):\n",
    "    val_x = np.zeros(dev[:,:-1].shape)\n",
    "    val_x += dev[:,:-1]\n",
    "    s = np.sum(val_x*w,axis=1) + b\n",
    "    x = 1/(1+np.exp(-s))\n",
    "    rs = x>= 0.5\n",
    "    y = dev[:,-1]\n",
    "    return np.sum(np.abs(rs-y)/dev.shape[0])"
   ]
  },
  {
   "cell_type": "code",
   "execution_count": 1511,
   "metadata": {
    "collapsed": true
   },
   "outputs": [],
   "source": [
    "np.random.seed(13)\n",
    "w1, b1 = stochastic_grad(train, 0.0001, 300, 0.995)"
   ]
  },
  {
   "cell_type": "code",
   "execution_count": 1512,
   "metadata": {},
   "outputs": [
    {
     "name": "stdout",
     "output_type": "stream",
     "text": [
      "0.105320304017\n"
     ]
    }
   ],
   "source": [
    "print(check_grad(w1, b1, val))"
   ]
  },
  {
   "cell_type": "code",
   "execution_count": 1513,
   "metadata": {
    "collapsed": true
   },
   "outputs": [],
   "source": [
    "w2, b2 = stochastic_grad(train_norm, 0.1, 350, 1)\n",
    "dev = val_norm"
   ]
  },
  {
   "cell_type": "code",
   "execution_count": 1514,
   "metadata": {},
   "outputs": [
    {
     "name": "stdout",
     "output_type": "stream",
     "text": [
      "0.0846905537459\n"
     ]
    }
   ],
   "source": [
    "print(check_grad(w2, b2, val_norm))"
   ]
  },
  {
   "cell_type": "code",
   "execution_count": 1515,
   "metadata": {
    "collapsed": true
   },
   "outputs": [],
   "source": [
    "def res_grad(w, b, dev, threshold):\n",
    "    val_x = np.zeros(dev[:,:-1].shape)\n",
    "    val_x += dev[:,:-1]\n",
    "    s = np.sum(val_x*w,axis=1) + b\n",
    "    x = 1/(1+np.exp(-s))\n",
    "    return x>= threshold"
   ]
  },
  {
   "cell_type": "code",
   "execution_count": 1516,
   "metadata": {
    "collapsed": true
   },
   "outputs": [],
   "source": [
    "def drawFpTp(train, val, learning_rate):    \n",
    "    pr = {}\n",
    "    A = np.arange(0, 1.0, 0.001)\n",
    "    w1, b1 = stochastic_grad(train, learning_rate, 300, 0.995)\n",
    "    for a in A:\n",
    "        res_val = res_grad(w1, b1, val, a)\n",
    "        fp = np.sum(1-val[res_val, -1])\n",
    "        tn = np.sum(1-val[np.where(res_val, False, True), -1])\n",
    "        fpr = fp/(fp + tn)\n",
    "        tp = np.sum(val[res_val, -1])\n",
    "        fn = np.sum(val[np.where(res_val, False, True), -1])\n",
    "        tpr = tp / (tp + fn)\n",
    "        pr[fpr] = tpr\n",
    "    sork = np.sort(list(pr.keys()))\n",
    "    val_t = []\n",
    "    for k in sork:\n",
    "        val_t.append(pr[k])\n",
    "    plt.plot(sork, val_t, color='r')\n",
    "\n",
    "    plt.ylim(ymax=1.01, ymin=0.0)\n",
    "    plt.xlim(xmax=1.0, xmin=0.0)\n",
    "    plt.xlabel('False positive rate')\n",
    "    plt.ylabel('True positive rate')\n",
    "    plt.show()\n",
    "    \n"
   ]
  },
  {
   "cell_type": "code",
   "execution_count": 1517,
   "metadata": {},
   "outputs": [
    {
     "data": {
      "image/png": "[encoded data removed]",
      "text/plain": [
       "<matplotlib.figure.Figure at 0x62003b2e8>"
      ]
     },
     "metadata": {},
     "output_type": "display_data"
    }
   ],
   "source": [
    "drawFpTp(train, val, 0.0001)"
   ]
  },
  {
   "cell_type": "code",
   "execution_count": 1518,
   "metadata": {},
   "outputs": [
    {
     "data": {
      "image/png": "[encoded data removed]",
      "text/plain": [
       "<matplotlib.figure.Figure at 0x6208e6f98>"
      ]
     },
     "metadata": {},
     "output_type": "display_data"
    }
   ],
   "source": [
    "drawFpTp(train_norm, val_norm, 0.1)"
   ]
  },
  {
   "cell_type": "code",
   "execution_count": 3,
   "metadata": {
    "collapsed": true
   },
   "outputs": [],
   "source": [
    "###3###\n",
    "def init_param(out_dim, in_dim):\n",
    "    w = np.random.randn(out_dim, in_dim)*np.sqrt(2/(out_dim + in_dim))\n",
    "    b = np.zeros((out_dim, 1))\n",
    "    return w, b"
   ]
  },
  {
   "cell_type": "code",
   "execution_count": 4,
   "metadata": {
    "collapsed": true
   },
   "outputs": [],
   "source": [
    "def relu(s):\n",
    "    return np.where(s>0, s, 0)"
   ]
  },
  {
   "cell_type": "code",
   "execution_count": 5,
   "metadata": {
    "collapsed": true
   },
   "outputs": [],
   "source": [
    "def sigmoid(s):\n",
    "    return 1/(1 + np.exp(-s))"
   ]
  },
  {
   "cell_type": "code",
   "execution_count": 6,
   "metadata": {
    "collapsed": true
   },
   "outputs": [],
   "source": [
    "def softmax(s):\n",
    "    return np.exp(s)/np.sum(np.exp(s), axis=0)"
   ]
  },
  {
   "cell_type": "code",
   "execution_count": 7,
   "metadata": {
    "collapsed": true
   },
   "outputs": [],
   "source": [
    "def forward_prop_step(X_prev, w, b, activation_fun):\n",
    "    s = np.dot(w, X_prev) + b\n",
    "    return s, activation_fun(s)"
   ]
  },
  {
   "cell_type": "code",
   "execution_count": 8,
   "metadata": {
    "collapsed": true
   },
   "outputs": [],
   "source": [
    "def forward_prop(X_init, params, last_neuron=sigmoid):\n",
    "    w1, b1, w2, b2, w3, b3 = params\n",
    "    s1, X_1 = forward_prop_step(X_init, w1, b1, relu)\n",
    "    s2, X_2 = forward_prop_step(X_1, w2, b2, relu)\n",
    "    s3, X_3 = forward_prop_step(X_2, w3, b3, last_neuron)\n",
    "    return s3, X_3, s2, X_2, s1, X_1"
   ]
  },
  {
   "cell_type": "code",
   "execution_count": 9,
   "metadata": {
    "collapsed": true
   },
   "outputs": [],
   "source": [
    "def back_prop(X_input, Y, par_lr, params):\n",
    "    w1, b1, w2, b2, w3, b3 = params\n",
    "    s3, X_3, s2, X_2, s1, X_1 = par_lr\n",
    "    m = X_input.shape[1]\n",
    "    \n",
    "    ds3 = X_3 - Y\n",
    "    dw3 = np.dot(ds3, X_2.T)/m\n",
    "    db3 = np.sum(ds3, axis=1, keepdims=True)/m\n",
    "    ds2 = np.dot(w3.T, ds3)*np.where(s2>0, 1, 0)\n",
    "    dw2 = np.dot(ds2, X_1.T)/m\n",
    "    db2 = np.sum(ds2, axis=1, keepdims=True)/m\n",
    "    ds1 = np.dot(w2.T, ds2)*np.where(s1>0, 1, 0)\n",
    "    dw1 = np.dot(ds1, X_input.T)/m\n",
    "    db1 = np.sum(ds1, axis=1, keepdims=True)/m\n",
    "    return dw1, db1, dw2, db2, dw3, db3"
   ]
  },
  {
   "cell_type": "code",
   "execution_count": 10,
   "metadata": {
    "collapsed": true
   },
   "outputs": [],
   "source": [
    "def init_opt(input_dim, l1_dim, l2_dim, output_dim): \n",
    "    Vdw1 = np.zeros((l1_dim, input_dim))\n",
    "    Vdw2 = np.zeros((l2_dim, l1_dim))\n",
    "    Vdw3 = np.zeros((output_dim, l2_dim))\n",
    "    Vdb1 = np.zeros((l1_dim, 1))\n",
    "    Vdb2 = np.zeros((l2_dim, 1))\n",
    "    Vdb3 = np.zeros((output_dim, 1))\n",
    "    Sdw1 = np.zeros((l1_dim, input_dim))\n",
    "    Sdw2 = np.zeros((l2_dim, l1_dim))\n",
    "    Sdw3 = np.zeros((output_dim, l2_dim))\n",
    "    Sdb1 = np.zeros((l1_dim, 1))\n",
    "    Sdb2 = np.zeros((l2_dim, 1))\n",
    "    Sdb3 = np.zeros((output_dim, 1))\n",
    "    return Vdw1, Vdw2, Vdw3, Vdb1, Vdb2, Vdb3, Sdw1, Sdw2, Sdw3, Sdb1, Sdb2, Sdb3"
   ]
  },
  {
   "cell_type": "code",
   "execution_count": 11,
   "metadata": {
    "collapsed": true
   },
   "outputs": [],
   "source": [
    "def optimize(learning_rate, weights, d_weights, adam=False, it=1, opt_cf=0, bt1 = 0.9, bt2 = 0.999, eps = 0.00000001):\n",
    "    w1, b1, w2, b2, w3, b3 = weights\n",
    "    dw1, db1, dw2, db2, dw3, db3 = d_weights\n",
    "    if adam:\n",
    "        Vdw1, Vdw2, Vdw3, Vdb1, Vdb2, Vdb3, Sdw1, Sdw2, Sdw3, Sdb1, Sdb2, Sdb3 = opt_cf\n",
    "        Vdw1 = bt1*Vdw1 + (1-bt1)*dw1\n",
    "        Vdb1 = bt1*Vdb1 + (1-bt1)*db1\n",
    "        Sdw1 = bt2*Sdw1 + (1-bt2)*(dw1**2)\n",
    "        Sdb1 = bt2*Sdb1 + (1-bt2)*(db1**2)\n",
    "        Vdw2 = bt1*Vdw2 + (1-bt1)*dw2\n",
    "        Vdb2 = bt1*Vdb2 + (1-bt1)*db2\n",
    "        Sdw2 = bt2*Sdw2 + (1-bt2)*(dw2**2)\n",
    "        Sdb2 = bt2*Sdb2 + (1-bt2)*(db2**2)\n",
    "        Vdw3 = bt1*Vdw3 + (1-bt1)*dw3\n",
    "        Vdb3 = bt1*Vdb3 + (1-bt1)*db3\n",
    "        Sdw3 = bt2*Sdw3 + (1-bt2)*(dw3**2)\n",
    "        Sdb3 = bt2*Sdb3 + (1-bt2)*(db3**2)\n",
    "\n",
    "        Vdw1_corr = Vdw1/(1-bt1**it)\n",
    "        Vdb1_corr = Vdb1/(1-bt1**it)\n",
    "        Sdw1_corr = Sdw1/(1-bt2**it)  \n",
    "        Sdb1_corr = Sdb1/(1-bt2**it)  \n",
    "        Vdw2_corr = Vdw2/(1-bt1**it)  \n",
    "        Vdb2_corr = Vdb2/(1-bt1**it)  \n",
    "        Sdw2_corr = Sdw2/(1-bt2**it)  \n",
    "        Sdb2_corr = Sdb2/(1-bt2**it)  \n",
    "        Vdw3_corr = Vdw3/(1-bt1**it)  \n",
    "        Vdb3_corr = Vdb3/(1-bt1**it)  \n",
    "        Sdw3_corr = Sdw3/(1-bt2**it)  \n",
    "        Sdb3_corr = Sdb3/(1-bt2**it)\n",
    "\n",
    "        w3 = w3 - learning_rate*Vdw3_corr/(np.sqrt(Sdw3_corr)+eps)\n",
    "        b3 = b3 - learning_rate*Vdb3_corr/(np.sqrt(Sdb3_corr)+eps)\n",
    "        w2 = w2 - learning_rate*Vdw2_corr/(np.sqrt(Sdw2_corr)+eps)\n",
    "        b2 = b2 - learning_rate*Vdb2_corr/(np.sqrt(Sdb2_corr)+eps)\n",
    "        w1 = w1 - learning_rate*Vdw1_corr/(np.sqrt(Sdw1_corr)+eps)\n",
    "        b1 = b1 - learning_rate*Vdb1_corr/(np.sqrt(Sdb1_corr)+eps)\n",
    "        opt_cf = Vdw1, Vdw2, Vdw3, Vdb1, Vdb2, Vdb3, Sdw1, Sdw2, Sdw3, Sdb1, Sdb2, Sdb3\n",
    "    else:\n",
    "        w1 -= learning_rate*dw1\n",
    "        b1 -= learning_rate*db1\n",
    "        w2 -= learning_rate*dw2\n",
    "        b2 -= learning_rate*db2\n",
    "        w3 -= learning_rate*dw3\n",
    "        b3 -= learning_rate*db3\n",
    "    weights = w1, b1, w2, b2, w3, b3\n",
    "    return weights, opt_cf"
   ]
  },
  {
   "cell_type": "code",
   "execution_count": 12,
   "metadata": {
    "collapsed": true
   },
   "outputs": [],
   "source": [
    "def nn(train, dev, l1_dim=64, l2_dim=64, out_dim=1, temp=1, learning_rate=0.1, batch_size=20, epoch=300, adam=False, last_neuron=sigmoid):\n",
    "    input_dim = train.shape[1]-1\n",
    "    w1, b1 = init_param(l1_dim, input_dim)\n",
    "    w2, b2 = init_param(l2_dim, l1_dim)\n",
    "    w3, b3 = init_param(out_dim, l2_dim)\n",
    "    for i in range(epoch):\n",
    "        batches_args = np.random.permutation(train.shape[0]).reshape(train.shape[0]//batch_size,batch_size)\n",
    "        t=1\n",
    "        Vdw1, Vdw2, Vdw3, Vdb1, Vdb2, Vdb3, Sdw1, Sdw2, Sdw3, Sdb1, Sdb2, Sdb3 = init_opt(input_dim, l1_dim, l2_dim, out_dim)\n",
    "        for args in batches_args:\n",
    "            batch = train[args]\n",
    "            X = batch[:,:-1].T\n",
    "            Y = batch[:,-1].reshape((1, batch.shape[0]))\n",
    "            params = w1, b1, w2, b2, w3, b3\n",
    "            par_lr = forward_prop(X, params, last_neuron)\n",
    "            dw1, db1, dw2, db2, dw3, db3 = back_prop(X, Y, par_lr, params)\n",
    "            opt_cf = Vdw1, Vdw2, Vdw3, Vdb1, Vdb2, Vdb3, Sdw1, Sdw2, Sdw3, Sdb1, Sdb2, Sdb3\n",
    "            weights = w1, b1, w2, b2, w3, b3\n",
    "            d_weights = dw1, db1, dw2, db2, dw3, db3\n",
    "            weights, opt_cf = optimize(learning_rate, weights, d_weights, adam, it=t, opt_cf=opt_cf)\n",
    "            w1, b1, w2, b2, w3, b3 = weights\n",
    "            Vdw1, Vdw2, Vdw3, Vdb1, Vdb2, Vdb3, Sdw1, Sdw2, Sdw3, Sdb1, Sdb2, Sdb3 = opt_cf\n",
    "            t+=1\n",
    "        learning_rate *= temp\n",
    "    param_pred = w1, b1, w2, b2, w3, b3\n",
    "    _, X_3, _ , _, _, _= forward_prop(dev[:,:-1].T, param_pred)\n",
    "    pred = X_3 >= 0.5\n",
    "    y_d = dev[:,-1].reshape((1,dev.shape[0]))\n",
    "    print(\"val error: \" + str(np.sum(np.abs(pred-y_d)/dev.shape[0])))"
   ]
  },
  {
   "cell_type": "code",
   "execution_count": 13,
   "metadata": {},
   "outputs": [
    {
     "name": "stdout",
     "output_type": "stream",
     "text": [
      "val error: 0.0846905537459\n"
     ]
    }
   ],
   "source": [
    "np.random.seed(13)\n",
    "nn(train_norm, val_norm, learning_rate = 0.001, temp=0.95, adam=True, epoch=100)"
   ]
  },
  {
   "cell_type": "code",
   "execution_count": 17,
   "metadata": {},
   "outputs": [
    {
     "name": "stdout",
     "output_type": "stream",
     "text": [
      "val error: 0.056460369164\n"
     ]
    }
   ],
   "source": [
    "np.random.seed(13)\n",
    "nn(train, val, learning_rate = 0.001, temp=0.95, adam=True, epoch=100)"
   ]
  },
  {
   "cell_type": "code",
   "execution_count": 9,
   "metadata": {
    "collapsed": true
   },
   "outputs": [],
   "source": [
    "###4###\n",
    "df_mnist = pd.read_csv('mnist.csv')\n",
    "train_mnist = np.array(df_mnist.values)"
   ]
  },
  {
   "cell_type": "code",
   "execution_count": 10,
   "metadata": {
    "collapsed": true
   },
   "outputs": [],
   "source": [
    "classes = np.unique(train_mnist[:,0])"
   ]
  },
  {
   "cell_type": "code",
   "execution_count": 11,
   "metadata": {
    "collapsed": true
   },
   "outputs": [],
   "source": [
    "cls_data = {}\n",
    "for i in classes:\n",
    "    cls_data[i] = np.argwhere(train_mnist[:,0]==i)\n",
    "    cls_data[i] = cls_data[i][:,0]\n",
    "train_mn = np.array([np.ones(train_mnist.shape[1])])\n",
    "val_mn = np.array([np.ones(train_mnist.shape[1])])\n",
    "test_mn = np.array([np.ones(train_mnist.shape[1])])\n",
    "for i in classes:\n",
    "    ln = cls_data[i].shape[0]\n",
    "    l1 = ln*8//10\n",
    "    l2 = ln*9//10\n",
    "    train_mn = np.concatenate((train_mn, train_mnist[cls_data[i][:l1]]), axis=0)\n",
    "    val_mn = np.concatenate((val_mn, train_mnist[cls_data[i][l1:l2]]), axis=0)\n",
    "    test_mn = np.concatenate((test_mn, train_mnist[cls_data[i][l2:]]), axis=0)\n",
    "train_mn = train_mn[1:]\n",
    "val_mn = val_mn[1:]\n",
    "test_mn = test_mn[1:]\n",
    "np.random.shuffle(train_mn)\n",
    "np.random.shuffle(val_mn)\n",
    "np.random.shuffle(test_mn)"
   ]
  },
  {
   "cell_type": "code",
   "execution_count": 19,
   "metadata": {},
   "outputs": [
    {
     "name": "stdout",
     "output_type": "stream",
     "text": [
      "class train  val  test\n",
      "0     784    98   98\n",
      "1     908    113  114\n",
      "2     825    103  104\n",
      "3     808    101  101\n",
      "4     785    98   99\n",
      "5     713    89   90\n",
      "6     766    96   96\n",
      "7     822    103  103\n",
      "8     779    97   98\n",
      "9     807    101  101\n"
     ]
    }
   ],
   "source": [
    "print(\"class train  val  test\")\n",
    "for i in classes:\n",
    "    print(str(i) + \"     \" + str(np.argwhere(train_mn[:,0]==i).shape[0]) +\\\n",
    "         \"    \" + str(np.argwhere(val_mn[:,0]==i).shape[0]).ljust(3) +\\\n",
    "        \"  \" + str(np.argwhere(test_mn[:,0]==i).shape[0]))"
   ]
  },
  {
   "cell_type": "code",
   "execution_count": 1617,
   "metadata": {
    "collapsed": true
   },
   "outputs": [],
   "source": [
    "###5###\n",
    "def nn_sm(train, dev, l1_dim=64, l2_dim=64, out_dim=1, temp=1, learning_rate=0.1, batch_size=20, epoch=300, adam=False, last_neuron=sigmoid):\n",
    "    input_dim = train.shape[1]-1\n",
    "    w1, b1 = init_param(l1_dim, input_dim)\n",
    "    w2, b2 = init_param(l2_dim, l1_dim)\n",
    "    w3, b3 = init_param(out_dim, l2_dim)\n",
    "    err_pr = 1\n",
    "    err = 1\n",
    "    for i in range(epoch):\n",
    "        t=1\n",
    "        Vdw1, Vdw2, Vdw3, Vdb1, Vdb2, Vdb3, Sdw1, Sdw2, Sdw3, Sdb1, Sdb2, Sdb3 = init_opt(input_dim, l1_dim, l2_dim, out_dim)\n",
    "        for i in range(int(np.ceil(train.shape[0]/batch_size))):\n",
    "            r = min((i+1)*batch_size, train.shape[0])\n",
    "            X = train[i*batch_size:r,1:].T\n",
    "            Y_t = train[i*batch_size:r,0].reshape(X.shape[1],)\n",
    "            Y = np.zeros((classes.shape[0],X.shape[1]))\n",
    "            Y_t = np.array(Y_t, dtype=int)\n",
    "            Y[Y_t,np.arange(X.shape[1])] += 1\n",
    "            params = w1, b1, w2, b2, w3, b3\n",
    "            par_lr = forward_prop(X, params, last_neuron)\n",
    "            _, X_3, _ , _, _, _ = par_lr\n",
    "            dw1, db1, dw2, db2, dw3, db3 = back_prop(X, Y, par_lr, params)\n",
    "            opt_cf = Vdw1, Vdw2, Vdw3, Vdb1, Vdb2, Vdb3, Sdw1, Sdw2, Sdw3, Sdb1, Sdb2, Sdb3\n",
    "            weights = w1, b1, w2, b2, w3, b3\n",
    "            d_weights = dw1, db1, dw2, db2, dw3, db3\n",
    "            weights, opt_cf = optimize(learning_rate, weights, d_weights, adam, it=t, opt_cf=opt_cf)\n",
    "            w1, b1, w2, b2, w3, b3 = weights\n",
    "            Vdw1, Vdw2, Vdw3, Vdb1, Vdb2, Vdb3, Sdw1, Sdw2, Sdw3, Sdb1, Sdb2, Sdb3 = opt_cf\n",
    "            t+=1\n",
    "        learning_rate *= temp\n",
    "        \n",
    "        param_pred = w1, b1, w2, b2, w3, b3\n",
    "        _, X_3, _ , _, _, _= forward_prop(dev[:,1:].T, param_pred, last_neuron)\n",
    "        pred = np.argmax(X_3, axis=0)\n",
    "        y_d = dev[:,0].reshape((1,dev.shape[0]))\n",
    "        div = pred - y_d\n",
    "        div = np.where(div==0, div, 1)\n",
    "        err = np.sum(div/dev.shape[0])\n",
    "        if err == err_pr:\n",
    "            break\n",
    "        err_pr = err\n",
    "    print(\"val error: \" + str(err))\n",
    "    return w1, b1, w2, b2, w3, b3"
   ]
  },
  {
   "cell_type": "code",
   "execution_count": 1620,
   "metadata": {},
   "outputs": [
    {
     "name": "stdout",
     "output_type": "stream",
     "text": [
      "val error: 0.042042042042\n",
      "test error: 0.0646766169154\n"
     ]
    }
   ],
   "source": [
    "np.random.seed(13)\n",
    "params = nn_sm(train_mn, val_mn, batch_size=10, learning_rate = 0.001, temp=0.95, adam=True, epoch=100, last_neuron = softmax, out_dim = 10)\n",
    "_, X_3, _ , _, _, _= forward_prop(test[:,1:].T, params, softmax)\n",
    "pred = np.argmax(X_3, axis=0)\n",
    "y_d = test[:,0].reshape((1,test.shape[0]))\n",
    "div = pred - y_d\n",
    "div = np.where(div==0, div, 1)\n",
    "err = np.sum(div/test.shape[0])\n",
    "print(\"test error: \" + str(err))"
   ]
  }
 ],
 "metadata": {
  "kernelspec": {
   "display_name": "Python 3",
   "language": "python",
   "name": "python3"
  },
  "language_info": {
   "codemirror_mode": {
    "name": "ipython",
    "version": 3
   },
   "file_extension": ".py",
   "mimetype": "text/x-python",
   "name": "python",
   "nbconvert_exporter": "python",
   "pygments_lexer": "ipython3",
   "version": "3.6.7"
  }
 },
 "nbformat": 4,
 "nbformat_minor": 2
}
