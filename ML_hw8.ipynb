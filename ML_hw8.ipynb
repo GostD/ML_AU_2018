{
 "cells": [
  {
   "cell_type": "code",
   "execution_count": 218,
   "metadata": {},
   "outputs": [],
   "source": [
    "import pandas as pd\n",
    "import numpy as np\n",
    "from scipy.spatial import distance\n",
    "import matplotlib.pyplot as plt\n",
    "\n",
    "df = pd.read_csv('spambase.csv')\n",
    "data = np.array(df.values)\n",
    "data_0 = np.argwhere(data[:,-1]==0)\n",
    "data_0 = data_0.reshape(data_0.shape[0],)\n",
    "data_1 = np.argwhere(data[:,-1]==1)\n",
    "data_1 = data_1.reshape(data_1.shape[0],)\n",
    "np.random.shuffle(data_0)\n",
    "np.random.shuffle(data_1)\n",
    "arg_train = np.concatenate((data_0[:int(data_0.shape[0]*9//10)], data_1[:int(data_1.shape[0]*9//10)]))\n",
    "arg_val = np.concatenate((data_0[int(data_0.shape[0]*9//10):], data_1[int(data_1.shape[0]*9//10):]))\n",
    "train = data[arg_train]\n",
    "val = data[arg_val]"
   ]
  },
  {
   "cell_type": "code",
   "execution_count": 219,
   "metadata": {},
   "outputs": [
    {
     "name": "stdout",
     "output_type": "stream",
     "text": [
      "val error: 0.216919739696\n"
     ]
    }
   ],
   "source": [
    "###1###\n",
    "train_mean_0 = np.mean(train[(train[:,-1]==0)], axis=0)\n",
    "train_var_0 = np.var(train[(train[:,-1]==0)], axis=0)\n",
    "train_mean_1 = np.mean(train[(train[:,-1]==1)], axis=0)\n",
    "train_var_1 = np.var(train[(train[:,-1]==1)], axis=0)\n",
    "prob_0 = np.exp(-(val[:,:-1]-train_mean_0[:-1])/(2*(train_var_0[:-1])))/np.sqrt(2*np.pi*(train_var_0[:-1]))\n",
    "prob_1 = np.exp(-(val[:,:-1]-train_mean_1[:-1])/(2*(train_var_1[:-1])))/np.sqrt(2*np.pi*(train_var_1[:-1]))\n",
    "p_0 = np.sum(train[:,-1]==1)/train.shape[0]\n",
    "p_1 = 1 - p_0\n",
    "pr_1 = p_1*np.prod(prob_1, axis=1)\n",
    "pr_0 = p_0*np.prod(prob_0, axis=1)\n",
    "prob_spam = pr_0/(pr_1 + pr_0)\n",
    "res = prob_spam<0.5\n",
    "print(\"val error: \" + str(np.sum(np.abs(res-val[:,-1]))/val.shape[0]))"
   ]
  },
  {
   "cell_type": "code",
   "execution_count": 220,
   "metadata": {
    "collapsed": true
   },
   "outputs": [],
   "source": [
    "def drawFpTp(prob_spam, val):    \n",
    "    pr = {}\n",
    "    A = np.unique(prob_spam)\n",
    "#     A = prob_spam\n",
    "    \n",
    "    for a in A:\n",
    "        res_val = prob_spam<=a\n",
    "        fp = np.sum(1-val[res_val, -1])\n",
    "        tn = np.sum(1-val[np.where(res_val, False, True), -1])\n",
    "        fpr = fp/(fp + tn)\n",
    "        tp = np.sum(val[res_val, -1])\n",
    "        fn = np.sum(val[np.where(res_val, False, True), -1])\n",
    "        tpr = tp / (tp + fn)\n",
    "        pr[fpr] = tpr\n",
    "    sork = np.sort(list(pr.keys()))\n",
    "    val_t = []\n",
    "    for k in sork:\n",
    "        val_t.append(pr[k])\n",
    "    plt.plot(sork, val_t, color='r')\n",
    "\n",
    "    plt.ylim(ymax=1.01, ymin=0.0)\n",
    "    plt.xlim(xmax=1.0, xmin=0.0)\n",
    "    plt.xlabel('False positive rate')\n",
    "    plt.ylabel('True positive rate')\n",
    "    plt.show()"
   ]
  },
  {
   "cell_type": "code",
   "execution_count": 221,
   "metadata": {},
   "outputs": [
    {
     "data": {
      "image/png": "[encoded data removed]",
      "text/plain": [
       "<matplotlib.figure.Figure at 0x615c80dd8>"
      ]
     },
     "metadata": {},
     "output_type": "display_data"
    }
   ],
   "source": [
    "drawFpTp(prob_spam, val)"
   ]
  },
  {
   "cell_type": "code",
   "execution_count": 321,
   "metadata": {
    "collapsed": true
   },
   "outputs": [],
   "source": [
    "###2### WRONG\n",
    "df_sms = pd.read_csv('smsspam.csv')"
   ]
  },
  {
   "cell_type": "code",
   "execution_count": 452,
   "metadata": {},
   "outputs": [
    {
     "data": {
      "text/plain": [
       "558"
      ]
     },
     "execution_count": 452,
     "metadata": {},
     "output_type": "execute_result"
    }
   ],
   "source": [
    "len(arg_val_sms)"
   ]
  },
  {
   "cell_type": "code",
   "execution_count": 408,
   "metadata": {},
   "outputs": [],
   "source": [
    "data_0_sms = np.argwhere((df_sms[\"label\"]==\"ham\").values)\n",
    "data_0_sms = data_0_sms.reshape(data_0_sms.shape[0],)\n",
    "data_1_sms = np.argwhere((df_sms[\"label\"]==\"spam\").values)\n",
    "data_1_sms = data_1_sms.reshape(data_1_sms.shape[0],)\n",
    "np.random.shuffle(data_0_sms)\n",
    "np.random.shuffle(data_1_sms)\n",
    "# arg_train_sms = np.concatenate((data_0_sms[:int(data_0_sms.shape[0]*9//10)], data_1_sms[:int(data_1_sms.shape[0]*9//10)]))\n",
    "arg_train_sms_0 = data_0_sms[:int(data_0_sms.shape[0]*9//10)]\n",
    "arg_train_sms_1 = data_1_sms[:int(data_1_sms.shape[0]*9//10)]\n",
    "arg_val_sms = np.concatenate((data_0_sms[int(data_0_sms.shape[0]*9//10):], data_1_sms[int(data_1_sms.shape[0]*9//10):]))\n",
    "train_sms_0 = df_sms[\"text\"][arg_train_sms_0]\n",
    "train_sms_1 = df_sms[\"text\"][arg_train_sms_1]\n",
    "val_sms = df_sms[\"text\"][arg_val_sms]\n",
    "val_sms_spam = df_sms[\"label\"][arg_val_sms]==\"spam\""
   ]
  },
  {
   "cell_type": "code",
   "execution_count": 497,
   "metadata": {},
   "outputs": [
    {
     "name": "stdout",
     "output_type": "stream",
     "text": [
      "747\n"
     ]
    }
   ],
   "source": [
    "print(len(data_1_sms))"
   ]
  },
  {
   "cell_type": "code",
   "execution_count": 463,
   "metadata": {},
   "outputs": [],
   "source": [
    "train_dict_0 = {}\n",
    "dif_w = {}\n",
    "dt_0 = 0\n",
    "dt_1 = 0\n",
    "for phrase in train_sms_0:\n",
    "    for word in phrase.split():\n",
    "        word = word.replace(\"!\",\"\").replace(\".\",\"\").replace(\",\",\"\").replace(\"?\",\"\").replace(\":\",\"\").replace(\";\",\"\").replace(\"'\",\"\").replace('\"','')\n",
    "        if word in train_dict_0:\n",
    "            train_dict_0[word] += 1\n",
    "        else:\n",
    "            train_dict_0[word] = 1\n",
    "            dif_w[word] = 1\n",
    "        dt_0 += 1\n",
    "            \n",
    "train_dict_1 = {}\n",
    "for phrase in train_sms_1:\n",
    "    for word in phrase.split():\n",
    "        word = word.replace(\"!\",\"\").replace(\".\",\"\").replace(\",\",\"\").replace(\"?\",\"\").replace(\":\",\"\").replace(\";\",\"\").replace(\"'\",\"\").replace('\"','')\n",
    "        if word in train_dict_1:\n",
    "            train_dict_1[word] += 1\n",
    "        else:\n",
    "            train_dict_1[word] = 1\n",
    "            dif_w[word] = 1\n",
    "        dt_1 += 1\n",
    "            "
   ]
  },
  {
   "cell_type": "code",
   "execution_count": 464,
   "metadata": {},
   "outputs": [],
   "source": [
    "K = len(dif_w.keys())\n",
    "pr_0 = len(train_sms_0)/(len(train_sms_0) + len(train_sms_1))\n",
    "pr_1 = 1 - pr_0"
   ]
  },
  {
   "cell_type": "code",
   "execution_count": 525,
   "metadata": {},
   "outputs": [],
   "source": [
    "prob_val = []\n",
    "ind_val = []\n",
    "for ind, phrase in val_sms.items():\n",
    "    p_0 = 1\n",
    "    p_1 = 1\n",
    "    for word in phrase.split():\n",
    "        word = word.replace(\"!\",\"\").replace(\".\",\"\").replace(\",\",\"\").replace(\"?\",\"\").replace(\":\",\"\").replace(\";\",\"\").replace(\"'\",\"\").replace('\"','')\n",
    "        if word in dif_w.keys():\n",
    "            if word in train_dict_0:\n",
    "                p_0 *= (train_dict_0[word]+1)/(dt_0+K)\n",
    "            else:\n",
    "                p_0 *= 1/(dt_0+K)\n",
    "            if word in train_dict_1:\n",
    "                p_1 *= (train_dict_1[word]+1)/(dt_1+K)\n",
    "            else:\n",
    "                p_1 *= 1/(dt_1+K)\n",
    "    p_0 *= pr_0\n",
    "    p_1 *= pr_1\n",
    "    try:\n",
    "        prob_val.append(p_0/(p_0+p_1))\n",
    "        ind_val.append(ind)\n",
    "    except:\n",
    "        prob_val.append(pr_0)\n",
    "        ind_val.append(ind)"
   ]
  },
  {
   "cell_type": "code",
   "execution_count": 539,
   "metadata": {},
   "outputs": [],
   "source": [
    "def drawFpTp(prob_spam, val):    \n",
    "    pr = {}\n",
    "    A = np.unique(prob_spam)\n",
    "    for a in A:\n",
    "        res_val = prob_spam>a\n",
    "        fp = np.sum(1-val[res_val])\n",
    "        tn = np.sum(1-val[np.where(res_val, False, True)])\n",
    "        fpr = fp/(fp + tn)\n",
    "        tp = np.sum(val[res_val])\n",
    "        fn = np.sum(val[np.where(res_val, False, True)])\n",
    "        tpr = tp / (tp + fn)\n",
    "        pr[fpr] = tpr\n",
    "    sork = np.sort(list(pr.keys()))\n",
    "    val_t = []\n",
    "    for k in sork:\n",
    "        val_t.append(pr[k])\n",
    "    plt.plot(sork, val_t, color='r')\n",
    "\n",
    "    plt.ylim(ymax=1.01, ymin=0.0)\n",
    "    plt.xlim(xmax=1.0, xmin=0.0)\n",
    "    plt.xlabel('False positive rate')\n",
    "    plt.ylabel('True positive rate')\n",
    "    plt.show()"
   ]
  },
  {
   "cell_type": "code",
   "execution_count": 540,
   "metadata": {},
   "outputs": [],
   "source": [
    "val_res = df_sms[\"label\"][ind_val]==\"ham\""
   ]
  },
  {
   "cell_type": "code",
   "execution_count": 542,
   "metadata": {},
   "outputs": [],
   "source": [
    "val_res = np.array(val_res.values)\n",
    "pr_val = np.array(prob_val)"
   ]
  },
  {
   "cell_type": "code",
   "execution_count": 543,
   "metadata": {},
   "outputs": [],
   "source": [
    "rs = pr_val > 0.5"
   ]
  },
  {
   "cell_type": "code",
   "execution_count": 547,
   "metadata": {},
   "outputs": [
    {
     "name": "stdout",
     "output_type": "stream",
     "text": [
      "error val: 0.010752688172\n"
     ]
    }
   ],
   "source": [
    "print(\"error val: \" + str(np.sum(rs^val_res)/len(val_res)))"
   ]
  },
  {
   "cell_type": "code",
   "execution_count": 548,
   "metadata": {},
   "outputs": [
    {
     "data": {
      "image/png": "[encoded data removed]",
      "text/plain": [
       "<matplotlib.figure.Figure at 0x618349940>"
      ]
     },
     "metadata": {},
     "output_type": "display_data"
    }
   ],
   "source": [
    "drawFpTp(pr_val, val_res)"
   ]
  },
  {
   "cell_type": "code",
   "execution_count": null,
   "metadata": {
    "collapsed": true
   },
   "outputs": [],
   "source": []
  }
 ],
 "metadata": {
  "kernelspec": {
   "display_name": "Python 3",
   "language": "python",
   "name": "python3"
  },
  "language_info": {
   "codemirror_mode": {
    "name": "ipython",
    "version": 3
   },
   "file_extension": ".py",
   "mimetype": "text/x-python",
   "name": "python",
   "nbconvert_exporter": "python",
   "pygments_lexer": "ipython3",
   "version": "3.8.0"
  }
 },
 "nbformat": 4,
 "nbformat_minor": 2
}
